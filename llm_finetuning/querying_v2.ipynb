{
 "cells": [
  {
   "cell_type": "code",
   "execution_count": null,
   "metadata": {},
   "outputs": [
    {
     "ename": "",
     "evalue": "",
     "output_type": "error",
     "traceback": [
      "\u001b[1;31mRunning cells with 'Python 3.10.14' requires the ipykernel package.\n",
      "\u001b[1;31mRun the following command to install 'ipykernel' into the Python environment. \n",
      "\u001b[1;31mCommand: '/opt/homebrew/bin/python3.10 -m pip install ipykernel -U --user --force-reinstall'"
     ]
    }
   ],
   "source": [
    "from prompts import get_code_gen_prompt\n",
    "# from unit_functions import *  # noqa\n",
    "import json\n",
    "import pandas as pd"
   ]
  },
  {
   "cell_type": "code",
   "execution_count": 6,
   "metadata": {},
   "outputs": [],
   "source": [
    "few_shot_ex = \"\"\"Few example questions, which are not answerable:\n",
    "            \"\"\""
   ]
  },
  {
   "cell_type": "code",
   "execution_count": 7,
   "metadata": {},
   "outputs": [],
   "source": [
    "# get_code_gen_prompt()"
   ]
  },
  {
   "cell_type": "code",
   "execution_count": 8,
   "metadata": {},
   "outputs": [
    {
     "name": "stderr",
     "output_type": "stream",
     "text": [
      "C:\\Users\\NANDHINI\\AppData\\Local\\Temp\\ipykernel_17192\\1412276754.py:2: FutureWarning: Passing literal json to 'read_json' is deprecated and will be removed in a future version. To read from a literal string, wrap it in a 'StringIO' object.\n",
      "  metadata_dict1 = pd.read_json(f1.read()).to_dict()\n",
      "C:\\Users\\NANDHINI\\AppData\\Local\\Temp\\ipykernel_17192\\1412276754.py:5: FutureWarning: Passing literal json to 'read_json' is deprecated and will be removed in a future version. To read from a literal string, wrap it in a 'StringIO' object.\n",
      "  metadata_dict2 = pd.read_json(f2.read()).to_dict()\n"
     ]
    }
   ],
   "source": [
    "f1 = open(\"../llm_finetuning/acs_metadata.json\", 'r')\n",
    "metadata_dict1 = pd.read_json(f1.read()).to_dict()\n",
    "\n",
    "f2 = open(\"../llm_finetuning/atus_metadata.json\", 'r')\n",
    "metadata_dict2 = pd.read_json(f2.read()).to_dict()\n",
    "\n",
    "sample_df1 = pd.read_csv(\"../llm_finetuning/acs_data.csv\")\n",
    "sample_df2 = pd.read_csv(\"../llm_finetuning/atus_data.txt\")\n",
    "sample_df = pd.concat([sample_df1, sample_df2], ignore_index=True)"
   ]
  },
  {
   "cell_type": "code",
   "execution_count": 9,
   "metadata": {},
   "outputs": [],
   "source": [
    "metadata_dict = metadata_dict1.copy()\n",
    "\n",
    "for key, value in metadata_dict2['row'].items():\n",
    "    if key not in metadata_dict['row'] or pd.isna(metadata_dict['row'][key]):\n",
    "        metadata_dict['row'][key] = value"
   ]
  },
  {
   "cell_type": "code",
   "execution_count": 10,
   "metadata": {},
   "outputs": [
    {
     "data": {
      "text/plain": [
       "{'row': {'description': 'daily subscription orders',\n",
       "  'TractId': nan,\n",
       "  'State': nan,\n",
       "  'County': nan,\n",
       "  'TotalPop': nan,\n",
       "  'Men': nan,\n",
       "  'Women': nan,\n",
       "  'Hispanic': nan,\n",
       "  'White': nan,\n",
       "  'Black': nan,\n",
       "  'Native': nan,\n",
       "  'Asian': nan,\n",
       "  'Pacific': nan,\n",
       "  'VotingAgeCitizen': nan,\n",
       "  'Income': nan,\n",
       "  'IncomeErr': nan,\n",
       "  'IncomePerCap': nan,\n",
       "  'IncomePerCapErr': nan,\n",
       "  'Poverty': nan,\n",
       "  'ChildPoverty': nan,\n",
       "  'Professional': nan,\n",
       "  'Service': nan,\n",
       "  'Office': nan,\n",
       "  'Construction': nan,\n",
       "  'Production': nan,\n",
       "  'Drive': nan,\n",
       "  'Carpool': nan,\n",
       "  'Transit': nan,\n",
       "  'Walk': nan,\n",
       "  'OtherTransp': nan,\n",
       "  'WorkAtHome': nan,\n",
       "  'MeanCommute': nan,\n",
       "  'Employed': nan,\n",
       "  'PrivateWork': nan,\n",
       "  'PublicWork': nan,\n",
       "  'SelfEmployed': nan,\n",
       "  'FamilyWork': nan,\n",
       "  'Unemployment': nan,\n",
       "  'series_id': nan,\n",
       "  'seasonal': nan,\n",
       "  'stattype_code': nan,\n",
       "  'datays_code': nan,\n",
       "  'sex_code': nan,\n",
       "  'region_code': nan,\n",
       "  'lfstat_code': nan,\n",
       "  'educ_code': nan,\n",
       "  'maritlstat_code': nan,\n",
       "  'age_code': nan,\n",
       "  'orig_code': nan,\n",
       "  'race_code': nan,\n",
       "  'mjcow_code': nan,\n",
       "  'nmet_code': nan,\n",
       "  'where_code': nan,\n",
       "  'sjmj_code': nan,\n",
       "  'timeday_code': nan,\n",
       "  'actcode_code': nan,\n",
       "  'industry_code': nan,\n",
       "  'occ_code': nan,\n",
       "  'prhhchild_code': nan,\n",
       "  'earn_code': nan,\n",
       "  'disability_code': nan,\n",
       "  'who_code': nan,\n",
       "  'hhnscc03_code': nan,\n",
       "  'schenr_code': nan,\n",
       "  'prownhhchild_code': nan,\n",
       "  'work_code': nan,\n",
       "  'elnum_code': nan,\n",
       "  'ecage_code': nan,\n",
       "  'elfreq_code': nan,\n",
       "  'eldur_code': nan,\n",
       "  'elwho_code': nan,\n",
       "  'ecytd_code': nan,\n",
       "  'elder_code': nan,\n",
       "  'lfstatw_code': nan,\n",
       "  'pertype_code': nan,\n",
       "  'series_title': nan,\n",
       "  'footnote_codes': nan,\n",
       "  'begin_year': nan,\n",
       "  'begin_period': nan,\n",
       "  'end_year': nan,\n",
       "  'end_period': nan},\n",
       " 'columns': {'description': nan,\n",
       "  'TractId': {'column_description': 'This column indicates the identification number for a particular census tract.',\n",
       "   'dtype': 'int64'},\n",
       "  'State': {'column_description': 'This column indicates the state or province within a particular country.',\n",
       "   'dtype': 'object'},\n",
       "  'County': {'column_description': 'This column indicates the name of the county under any particular state.',\n",
       "   'dtype': 'object'},\n",
       "  'TotalPop': {'column_description': 'This column contains the total population in a county.',\n",
       "   'dtype': 'int64'},\n",
       "  'Men': {'column_description': 'This column contains the total men population in a county.',\n",
       "   'dtype': 'int64'},\n",
       "  'Women': {'column_description': 'This column contains the total women population in a county.',\n",
       "   'dtype': 'int64'},\n",
       "  'Hispanic': {'column_description': 'This column contains the percentage of total Hispanic population in a county.',\n",
       "   'dtype': 'float64'},\n",
       "  'White': {'column_description': 'This column contains the percentage of total White population in a county.',\n",
       "   'dtype': 'float64'},\n",
       "  'Black': {'column_description': 'This column contains the percentage of total Black population in a county.',\n",
       "   'dtype': 'float64'},\n",
       "  'Native': {'column_description': 'This column contains the percentage of total native population in a county.',\n",
       "   'dtype': 'float64'},\n",
       "  'Asian': {'column_description': 'This column contains the percentage of total Asian population in a county.',\n",
       "   'dtype': 'float64'},\n",
       "  'Pacific': {'column_description': 'This column contains the percentage of total Pacific population in a county.',\n",
       "   'dtype': 'float64'},\n",
       "  'VotingAgeCitizen': {'column_description': 'This column contains the total number citizens meeting the criteria of both citizenship and the minimum age required to vote within a county.',\n",
       "   'dtype': 'int64'},\n",
       "  'Income': {'column_description': 'This column contains the average earnings across the population within a county.',\n",
       "   'dtype': 'float64'},\n",
       "  'IncomeErr': {'column_description': 'This column contains the margin of error or uncertainty associated with the reported income figures within a county.',\n",
       "   'dtype': 'float64'},\n",
       "  'IncomePerCap': {'column_description': 'This column contains the average of the income earned per person within a county.',\n",
       "   'dtype': 'float64'},\n",
       "  'IncomePerCapErr': {'column_description': 'This column contains the margin of error or uncertainty related to the calculated average income per capita within a county.',\n",
       "   'dtype': 'float64'},\n",
       "  'Poverty': {'column_description': 'This column contains the percentage of total number of people who are living in poverty in a county.',\n",
       "   'dtype': 'float64'},\n",
       "  'ChildPoverty': {'column_description': 'This column contains the percentage of children living in poverty in a county.',\n",
       "   'dtype': 'float64'},\n",
       "  'Professional': {'column_description': 'This column contains the percentage of people who are qualified to provide professional services in a county.',\n",
       "   'dtype': 'float64'},\n",
       "  'Service': {'column_description': 'This column contains the percentage of people who provide non-professional services in a county.',\n",
       "   'dtype': 'float64'},\n",
       "  'Office': {'column_description': 'This column contains the percentage of offices in a county.',\n",
       "   'dtype': 'float64'},\n",
       "  'Construction': {'column_description': 'This column contains the percentage of construction industries in a county.',\n",
       "   'dtype': 'float64'},\n",
       "  'Production': {'column_description': 'This column contains the percentage of people on the production line and produce goods in a county.',\n",
       "   'dtype': 'float64'},\n",
       "  'Drive': {'column_description': 'This column contains the percentage of people who owns a vehicle and drive it in a county.',\n",
       "   'dtype': 'float64'},\n",
       "  'Carpool': {'column_description': 'This column contains the percentage of people who use carpool in a county.',\n",
       "   'dtype': 'float64'},\n",
       "  'Transit': {'column_description': 'This column contains the percentage of people who use public transit in a county.',\n",
       "   'dtype': 'float64'},\n",
       "  'Walk': {'column_description': 'This column contains the percentage of people who walk to work/school within a county.',\n",
       "   'dtype': 'float64'},\n",
       "  'OtherTransp': {'column_description': 'This column contains the percentage of people who use other modes of transportation other than walk in a county.',\n",
       "   'dtype': 'float64'},\n",
       "  'WorkAtHome': {'column_description': 'This column contains the percentage of people who works at home in a county.',\n",
       "   'dtype': 'float64'},\n",
       "  'MeanCommute': {'column_description': 'This column contains the average commute time for commuters in minutes in a county.',\n",
       "   'dtype': 'float64'},\n",
       "  'Employed': {'column_description': 'This column contains the total number of employed adults in a county.',\n",
       "   'dtype': 'int64'},\n",
       "  'PrivateWork': {'column_description': 'This column contains the percentage of people who do private work in a county.',\n",
       "   'dtype': 'float64'},\n",
       "  'PublicWork': {'column_description': 'This column contains the percentage of people who do public or government project works undertaken within a county.',\n",
       "   'dtype': 'float64'},\n",
       "  'SelfEmployed': {'column_description': 'This column contains the percentage of people who are self-employed in a county.',\n",
       "   'dtype': 'float64'},\n",
       "  'FamilyWork': {'column_description': 'This column contains the percentage of people who do family work in a county.',\n",
       "   'dtype': 'float64'},\n",
       "  'Unemployment': {'column_description': 'This column contains the percentage of unemployed workforce in a county.',\n",
       "   'dtype': 'float64'}}}"
      ]
     },
     "execution_count": 10,
     "metadata": {},
     "output_type": "execute_result"
    }
   ],
   "source": [
    "metadata_dict"
   ]
  },
  {
   "cell_type": "code",
   "execution_count": 11,
   "metadata": {},
   "outputs": [],
   "source": [
    "prompt = get_code_gen_prompt(metadata_dict, few_shot_ex)"
   ]
  },
  {
   "cell_type": "code",
   "execution_count": 33,
   "metadata": {},
   "outputs": [],
   "source": [
    "# user_query = \"Can you provide the wow_growth_median increase in income for residents in Alabama\"\n",
    "\n",
    "# user_query = \"Find the percentage of Hispanic population in a given census tract 1001020300.\"\n",
    "\n",
    "# user_query = \"Find the trends in income for residents in Alabama\"\n",
    "\n",
    "# user_query = \"Compute the ratio of men to women.\"\n",
    "\n",
    "# user_query = \"Identify the key factors influencing employment rates.\"\n",
    "\n",
    "user_query = \"Find the average income without rounding off across all the regions covered?\""
   ]
  },
  {
   "cell_type": "code",
   "execution_count": null,
   "metadata": {},
   "outputs": [],
   "source": [
    "import openai\n",
    "\n",
    "response = openai.ChatCompletion.create(\n",
    "              model=\"gpt-4\",\n",
    "              messages=[{\"role\": \"system\", \"content\": prompt},\n",
    "                        {\"role\": \"user\", \"content\": user_query}\n",
    "              ])"
   ]
  },
  {
   "cell_type": "code",
   "execution_count": 35,
   "metadata": {},
   "outputs": [],
   "source": [
    "response = response[\"choices\"][0][\"message\"][\"content\"]"
   ]
  },
  {
   "cell_type": "code",
   "execution_count": 36,
   "metadata": {},
   "outputs": [
    {
     "name": "stdout",
     "output_type": "stream",
     "text": [
      "print(avg(sample_df, 'Income'))\n"
     ]
    }
   ],
   "source": [
    "print(response)"
   ]
  },
  {
   "cell_type": "code",
   "execution_count": 37,
   "metadata": {},
   "outputs": [
    {
     "ename": "NameError",
     "evalue": "name 'avg' is not defined",
     "output_type": "error",
     "traceback": [
      "\u001b[1;31m---------------------------------------------------------------------------\u001b[0m",
      "\u001b[1;31mNameError\u001b[0m                                 Traceback (most recent call last)",
      "Cell \u001b[1;32mIn[37], line 5\u001b[0m\n\u001b[0;32m      4\u001b[0m \u001b[38;5;28;01mtry\u001b[39;00m:\n\u001b[1;32m----> 5\u001b[0m     \u001b[43mexec\u001b[49m\u001b[43m(\u001b[49m\u001b[43mresponse\u001b[49m\u001b[43m)\u001b[49m\n\u001b[0;32m      6\u001b[0m \u001b[38;5;28;01mexcept\u001b[39;00m \u001b[38;5;167;01mException\u001b[39;00m \u001b[38;5;28;01mas\u001b[39;00m e:\n",
      "File \u001b[1;32m<string>:1\u001b[0m\n",
      "\u001b[1;31mNameError\u001b[0m: name 'avg' is not defined",
      "\nDuring handling of the above exception, another exception occurred:\n",
      "\u001b[1;31mNameError\u001b[0m                                 Traceback (most recent call last)",
      "Cell \u001b[1;32mIn[37], line 14\u001b[0m\n\u001b[0;32m     13\u001b[0m \u001b[38;5;28;01mtry\u001b[39;00m:\n\u001b[1;32m---> 14\u001b[0m     \u001b[43mexec\u001b[49m\u001b[43m(\u001b[49m\u001b[43mresponse\u001b[49m\u001b[43m)\u001b[49m\n\u001b[0;32m     15\u001b[0m \u001b[38;5;28;01mexcept\u001b[39;00m \u001b[38;5;167;01mException\u001b[39;00m \u001b[38;5;28;01mas\u001b[39;00m e:\n",
      "File \u001b[1;32m<string>:1\u001b[0m\n",
      "\u001b[1;31mNameError\u001b[0m: name 'avg' is not defined",
      "\nDuring handling of the above exception, another exception occurred:\n",
      "\u001b[1;31mNameError\u001b[0m                                 Traceback (most recent call last)",
      "Cell \u001b[1;32mIn[37], line 16\u001b[0m\n\u001b[0;32m     14\u001b[0m     exec(response)\n\u001b[0;32m     15\u001b[0m \u001b[38;5;28;01mexcept\u001b[39;00m \u001b[38;5;167;01mException\u001b[39;00m \u001b[38;5;28;01mas\u001b[39;00m e:\n\u001b[1;32m---> 16\u001b[0m     \u001b[43mexec\u001b[49m\u001b[43m(\u001b[49m\u001b[43mresponse\u001b[49m\u001b[43m)\u001b[49m\n\u001b[0;32m     17\u001b[0m     \u001b[38;5;66;03m# print(\"Not Answerable from data/question\")\u001b[39;00m\n",
      "File \u001b[1;32m<string>:1\u001b[0m\n",
      "\u001b[1;31mNameError\u001b[0m: name 'avg' is not defined"
     ]
    }
   ],
   "source": [
    "if \"incomplete\" in response:\n",
    "    print(\"Not Answerable from data/question\")\n",
    "else:\n",
    "    try:\n",
    "        exec(response)\n",
    "    except Exception as e:\n",
    "        response = openai.ChatCompletion.create(\n",
    "              model=\"gpt-4\",\n",
    "              messages=[{\"role\": \"system\", \"content\": prompt},\n",
    "                        {\"role\": \"user\", \"content\": user_query}\n",
    "              ])\n",
    "        response = response[\"choices\"][0][\"message\"][\"content\"]\n",
    "        try:\n",
    "            exec(response)\n",
    "        except Exception as e:\n",
    "            exec(response)\n",
    "            # print(\"Not Answerable from data/question\")"
   ]
  },
  {
   "cell_type": "code",
   "execution_count": 23,
   "metadata": {},
   "outputs": [],
   "source": [
    "#trends in income for residents in Alabama"
   ]
  }
 ],
 "metadata": {
  "kernelspec": {
   "display_name": "Python 3",
   "language": "python",
   "name": "python3"
  },
  "language_info": {
   "codemirror_mode": {
    "name": "ipython",
    "version": 3
   },
   "file_extension": ".py",
   "mimetype": "text/x-python",
   "name": "python",
   "nbconvert_exporter": "python",
   "pygments_lexer": "ipython3",
   "version": "3.10.14"
  }
 },
 "nbformat": 4,
 "nbformat_minor": 2
}
